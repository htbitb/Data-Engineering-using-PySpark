{
 "cells": [
  {
   "cell_type": "markdown",
   "metadata": {},
   "source": [
    "### Setup and initialization"
   ]
  },
  {
   "cell_type": "code",
   "execution_count": null,
   "metadata": {},
   "outputs": [],
   "source": [
    "from pyspark import SparkConf, SparkContext\n",
    "\n",
    "conf = SparkConf().setMaster(\"local\").setAppName(\"Spendbycustomer\")\n",
    "sc = SparkContext(conf= conf)"
   ]
  },
  {
   "cell_type": "markdown",
   "metadata": {},
   "source": [
    "##### 1. Importing the libraries:\n",
    "* `SparkConf` and `SparkContext` from pyspark for Spark configuration and context creation.\n",
    "\n",
    "##### 2. Configuring Spark\n",
    "* `SparkConf().setMaster(\"local\")`: Configures Spark to run locally with a single threat\n",
    "* `setAppName(\"Spendbycustomer\")`: Names the spark application\n",
    "\n",
    "##### 3. Create SprakContext\n",
    "* `sc = SparkContext(conf= conf)`: Initialize the Spark context with the specified configuration."
   ]
  },
  {
   "cell_type": "markdown",
   "metadata": {},
   "source": [
    "### Function to extract Customer-Price pairs"
   ]
  },
  {
   "cell_type": "code",
   "execution_count": null,
   "metadata": {},
   "outputs": [],
   "source": [
    "def extractCustomerPricePairs(line):\n",
    "    fields = line.split(',')\n",
    "    return (int(fields[0]), float(fields[2]))"
   ]
  },
  {
   "cell_type": "markdown",
   "metadata": {},
   "source": [
    "##### 4. Define `extractCustomerPricePairs` Function:\n",
    "* This function take a line of text and text as input, splits it by commas, return a tuple with the customer ID (as an integer) and the price as float"
   ]
  },
  {
   "cell_type": "markdown",
   "metadata": {},
   "source": [
    "### Reading Input Data and Transformations"
   ]
  },
  {
   "cell_type": "code",
   "execution_count": null,
   "metadata": {},
   "outputs": [],
   "source": [
    "input = sc.textFile(\"./source/customer-orders.csv\")\n",
    "mappedInput = input.map(extractCustomerPricePairs)\n",
    "totalByCustomer = mappedInput.reduceByKey(lambda x, y: x + y)"
   ]
  },
  {
   "cell_type": "markdown",
   "metadata": {},
   "source": [
    "##### 5. Loading data\n",
    "* `sc.textFile(\"..csv\")`: Reads the csv file into an RDD called `input`. Each element is a line from the CSV file in local file\n",
    "\n",
    "##### 6. Mapping input\n",
    "* `input.map(extractCustomerPricePairs)`: Applies extract function to each line of the input RDD, resulting in an RDD of (customer, price) pairs.\n",
    "\n",
    "##### 7. Reducing by key\n",
    "* `mappedInput.reduceByKey(lambda x, y: x + y)`: Sums up the prices for each customer ID. This results in an RDD of (customerID, totalSpent) pairs."
   ]
  },
  {
   "cell_type": "markdown",
   "metadata": {},
   "source": [
    "### Flipping and Sorting "
   ]
  },
  {
   "cell_type": "code",
   "execution_count": null,
   "metadata": {},
   "outputs": [],
   "source": [
    "flipped = totalByCustomer.map(lambda x: (x[1], x[0]))\n",
    "totalByCustomersorted = flipped.sortByKey()"
   ]
  },
  {
   "cell_type": "markdown",
   "metadata": {},
   "source": [
    "##### 8. Flipping Key-Value Pairs:\n",
    "\n",
    "* `totalByCustomer.map(lambda x: (x[1], x[0]))`: Switches the positions of the key and value in each pair. This results in an RDD of (totalSpent, customerID) pairs.\n",
    "\n",
    "##### 9. Sorting by Key:\n",
    "\n",
    "* `flipped.sortByKey()`: Sorts the RDD by the total spent (key) in ascending order."
   ]
  },
  {
   "cell_type": "markdown",
   "metadata": {},
   "source": [
    "### Collecting and printing results"
   ]
  },
  {
   "cell_type": "code",
   "execution_count": null,
   "metadata": {},
   "outputs": [],
   "source": [
    "results = totalByCustomerSorted.collect()\n",
    "for result in results:\n",
    "    print(result)"
   ]
  }
 ],
 "metadata": {
  "language_info": {
   "name": "python"
  }
 },
 "nbformat": 4,
 "nbformat_minor": 2
}
