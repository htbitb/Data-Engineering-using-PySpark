{
 "cells": [
  {
   "cell_type": "markdown",
   "metadata": {},
   "source": [
    "### Import necessary classes frorm the PySpark library"
   ]
  },
  {
   "cell_type": "code",
   "execution_count": null,
   "metadata": {},
   "outputs": [],
   "source": [
    "from pyspark import SparkConf, SparkContext\n",
    "import collections\n"
   ]
  },
  {
   "cell_type": "markdown",
   "metadata": {},
   "source": [
    "### Spark COnfiguration and Context"
   ]
  },
  {
   "cell_type": "code",
   "execution_count": null,
   "metadata": {},
   "outputs": [],
   "source": [
    "conf = SparkConf().setMaster(\"local\").setAppName(\"RatingsHistogram\")\n",
    "sc = SparkContext(conf = conf)"
   ]
  },
  {
   "cell_type": "markdown",
   "metadata": {},
   "source": [
    "* `SparkConf().setMaster(\"Local\")`: Configures Spark to run locally with one thread\n",
    "* `setAppName(\"RatingHistogram\")`: Names the spark application \"RatingHistogram\"\n",
    "* `sparkContext(conf = conf)`: initialize Spark context with the given configuration. This context is the main entry point for Spark functionality."
   ]
  },
  {
   "cell_type": "code",
   "execution_count": null,
   "metadata": {},
   "outputs": [],
   "source": [
    "lines = sc.textFile(\"filepath\") # Reads the input data from the specified file path into an RDD called 'lines'"
   ]
  },
  {
   "cell_type": "markdown",
   "metadata": {},
   "source": [
    "### Extracting Ratings"
   ]
  },
  {
   "cell_type": "code",
   "execution_count": null,
   "metadata": {},
   "outputs": [],
   "source": [
    "ratings = lines.map(lambda x: x.split()[2])"
   ]
  },
  {
   "cell_type": "markdown",
   "metadata": {},
   "source": [
    "* `lines.map(lambda x: x.split()[2])`: Transforms each line in the `lines` RDD by splitting it into a list of fields and extracting the third field (index 2), which is assumed to be the rating. The result is a new RDD called `ratings` where each element is a rating\n",
    "\n",
    "Example of `u.data` file:\n",
    "```\n",
    "195 242 3 88125\n",
    "```\n",
    "* After splitting: `[\"195\", \"242\", \"3\", \"88125\"]`\n",
    "* Extracted rating: `\"3\"`"
   ]
  },
  {
   "cell_type": "markdown",
   "metadata": {},
   "source": [
    "### Counting Ratings"
   ]
  },
  {
   "cell_type": "code",
   "execution_count": null,
   "metadata": {},
   "outputs": [],
   "source": [
    "result = ratings.countByValue()"
   ]
  },
  {
   "cell_type": "markdown",
   "metadata": {},
   "source": [
    "* `ratings.countByValue()`: Counts the occurrences of each unique rating in the ratings RDD. The result is a dictionary where the keys are the ratings and the values are their respective counts."
   ]
  },
  {
   "cell_type": "markdown",
   "metadata": {},
   "source": [
    "### Sorting Results"
   ]
  },
  {
   "cell_type": "code",
   "execution_count": null,
   "metadata": {},
   "outputs": [],
   "source": [
    "sortedResults = collections.OrderedDict(sorted(result.items()))"
   ]
  },
  {
   "cell_type": "markdown",
   "metadata": {},
   "source": [
    "* `sorted(result.items())`: Sorts the dictionary items (rating, count) by rating.\n",
    "* `collections.OrderedDict(...)`: Creates an ordered dictionary from the sorted items, preserving the order."
   ]
  },
  {
   "cell_type": "code",
   "execution_count": null,
   "metadata": {},
   "outputs": [],
   "source": [
    "for key, value in sortedResults.items():\n",
    "    print(\"%s %i\" % (key, value))"
   ]
  }
 ],
 "metadata": {
  "language_info": {
   "name": "python"
  }
 },
 "nbformat": 4,
 "nbformat_minor": 2
}
