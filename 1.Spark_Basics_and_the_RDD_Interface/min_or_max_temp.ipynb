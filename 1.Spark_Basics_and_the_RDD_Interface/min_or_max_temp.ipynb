{
 "cells": [
  {
   "cell_type": "markdown",
   "metadata": {},
   "source": [
    "### Import statements"
   ]
  },
  {
   "cell_type": "code",
   "execution_count": null,
   "metadata": {},
   "outputs": [],
   "source": [
    "from pyspark import SparkConf, SparkContext"
   ]
  },
  {
   "cell_type": "markdown",
   "metadata": {},
   "source": [
    "### Spark Configuration and Context"
   ]
  },
  {
   "cell_type": "code",
   "execution_count": null,
   "metadata": {},
   "outputs": [],
   "source": [
    "conf = SparkConf().setMaster(\"local\").setAppName(\"MinTemperatures\")\n",
    "sc = SparkContext(conf = conf)"
   ]
  },
  {
   "cell_type": "markdown",
   "metadata": {},
   "source": [
    "### Function Definition"
   ]
  },
  {
   "cell_type": "code",
   "execution_count": null,
   "metadata": {},
   "outputs": [],
   "source": [
    "def parseLine(line):\n",
    "    fields = line.split(',')\n",
    "    stationID = fields[0]\n",
    "    entryType = fields[2]\n",
    "    temperature = float(fields[3]) * 0.1 * (9.0 / 5.0) + 32.0\n",
    "    return (stationID, entryType, temperature)"
   ]
  },
  {
   "cell_type": "markdown",
   "metadata": {},
   "source": [
    "* Input: `line` is a string representing a line from the input CSV file.\n",
    "* Split the Line: `fields = line.split(',')` splits the line into a list of strings based on the comma delimiter.\n",
    "* Extract Fields:\n",
    "  * `stationID = fields[0]`: Extracts the station ID.\n",
    "  * `entryType = fields[2]`: Extracts the entry type\n",
    "  * `temperature = float(fields[3]) * 0.1 * (9.0 / 5.0) + 32.0`: Convert the temperature from tenths of degrees Celsius to Fahrenheit.\n",
    "* Return Tuples"
   ]
  },
  {
   "cell_type": "markdown",
   "metadata": {},
   "source": [
    "### Parsing Lines"
   ]
  },
  {
   "cell_type": "code",
   "execution_count": null,
   "metadata": {},
   "outputs": [],
   "source": [
    "lines = sc.textFile(\"./1800.csv\")\n",
    "parsedLines = lines.map(parseLine)"
   ]
  },
  {
   "cell_type": "markdown",
   "metadata": {},
   "source": [
    "* Applies the `pareLine` function function to rach element(line) in the `lines` RDD.\n",
    "\n",
    "Example:\n",
    "* Before map: `[\"ITE00100554,18000101,TMIN,-148\", \"ITE00100554,18000101,TMAX,-75\", \"EZE00100082,18000101,TMIN,-135\"]`\n",
    "\n",
    "</br>\n",
    "\n",
    "* After map: `[(\"ITE00100554\", \"TMIN\", 5.36), (\"ITE00100554\", \"TMAX\", 18.5), (\"EZE00100082\", \"TMIN\", 7.7)]`\n"
   ]
  },
  {
   "cell_type": "markdown",
   "metadata": {},
   "source": [
    "### Filter for Min or Max Temperatures:"
   ]
  },
  {
   "cell_type": "code",
   "execution_count": null,
   "metadata": {},
   "outputs": [],
   "source": [
    "fil = \"TMIN\" # Min temperature or \"TMAX\" for max temperature\n",
    "minTemps = parsedLines.filter(lambda x: fil in x[1])"
   ]
  },
  {
   "cell_type": "markdown",
   "metadata": {},
   "source": [
    "### MApping to (StationID, Temperature)"
   ]
  },
  {
   "cell_type": "code",
   "execution_count": null,
   "metadata": {},
   "outputs": [],
   "source": [
    "stationTemps = minTemps.map(lambda x: (x[0], x[2]))"
   ]
  },
  {
   "cell_type": "markdown",
   "metadata": {},
   "source": [
    "* `minTemps.map(lambda x: (x[0], x[2]))`: Transforms each element in the minTemps RDD to a tuple containing only the station ID and the temperature. This results in a new RDD called stationTemps.\n",
    "\n",
    "Example:\n",
    "* Before map: `[(\"ITE00100554\", \"TMIN\", 5.36), (\"EZE00100082\", \"TMIN\", 7.7)]`\n",
    "\n",
    "* After map: `[(\"ITE00100554\", 5.36), (\"EZE00100082\", 7.7)]`"
   ]
  },
  {
   "cell_type": "markdown",
   "metadata": {},
   "source": [
    "### Reducing to Minimum Temperature"
   ]
  },
  {
   "cell_type": "code",
   "execution_count": null,
   "metadata": {},
   "outputs": [],
   "source": [
    "minTemps = stationTemps.reduceByKey(lambda x, y: min(x, y))"
   ]
  },
  {
   "cell_type": "markdown",
   "metadata": {},
   "source": [
    "* `stationTemps.reduceByKey(lambda x, y: min(x, y))`: Reduces the stationTemps RDD by key (stationID) to find the minimum temperature for each station. This results in a new RDD called minTemps."
   ]
  },
  {
   "cell_type": "code",
   "execution_count": null,
   "metadata": {},
   "outputs": [],
   "source": [
    "results = minTemps.collect()\n",
    "for result in results:\n",
    "    print(result[0] + \"\\t{:.2f}F\".format(result[1]))"
   ]
  }
 ],
 "metadata": {
  "language_info": {
   "name": "python"
  }
 },
 "nbformat": 4,
 "nbformat_minor": 2
}
