{
 "cells": [
  {
   "cell_type": "markdown",
   "metadata": {},
   "source": [
    "### Initialization libraries"
   ]
  },
  {
   "cell_type": "code",
   "execution_count": 3,
   "metadata": {},
   "outputs": [],
   "source": [
    "from pyspark.sql import SparkSession\n",
    "from pyspark.sql import functions as fnc\n",
    "from pyspark.sql.types import StructType, IntegerType, StringType, FloatType, StructField, LongType\n",
    "import codecs"
   ]
  },
  {
   "cell_type": "markdown",
   "metadata": {},
   "source": [
    "### Deploy function loading name of movies"
   ]
  },
  {
   "cell_type": "code",
   "execution_count": null,
   "metadata": {},
   "outputs": [],
   "source": [
    "def LoadingMovies():\n",
    "    NamesOfMovies = {}\n",
    "    with codecs.open(\"folders_path\", 'r', encoding='ISO-8859-1', errors='ignore') as f:\n",
    "        for line in f:\n",
    "            fields = line.split('|')\n",
    "            NamesOfMovies[int(fields[0])] = fields[1]\n",
    "    return NamesOfMovies"
   ]
  },
  {
   "cell_type": "markdown",
   "metadata": {},
   "source": [
    "* **Purpose**: This function reads a file containing movie information and creates a dictionary where the keys are movies IDs and the values are movie names."
   ]
  },
  {
   "cell_type": "markdown",
   "metadata": {},
   "source": [
    "### Create Spark Session"
   ]
  },
  {
   "cell_type": "code",
   "execution_count": 5,
   "metadata": {},
   "outputs": [],
   "source": [
    "spark = SparkSession.builder.appName(\"PopularMoviesName\").getOrCreate()"
   ]
  },
  {
   "cell_type": "code",
   "execution_count": null,
   "metadata": {},
   "outputs": [],
   "source": [
    "nameDict = spark.sparkContext.broadcast(LoadingMovies())"
   ]
  },
  {
   "cell_type": "markdown",
   "metadata": {},
   "source": [
    "In Apche Spark, the `broadcast` method is used to efficiently distribute a large rea-only variable to all worker nodes in a cluster. This is particularly useful when you have a variable or data that needs to be accessed frequently across many tasks, as it avoids the need to repeatedly send the same data over the network.\n",
    "\n",
    "\n",
    "In this situation it helps:\n",
    "* **Avoid Redundant Data Transfer**: If each task needs to access the movie names dictionary, broadcasting ensures that the dictionary is sent to each node only once, rather than sending it multiple times.\n",
    "* **Reduced Network Overhead**: By broadcastingm you minimize the amount of data transferred over the network, as each node gets a local copy of the broadcast variable."
   ]
  },
  {
   "cell_type": "markdown",
   "metadata": {},
   "source": [
    "### Create schema when reading file u.data"
   ]
  },
  {
   "cell_type": "code",
   "execution_count": 6,
   "metadata": {},
   "outputs": [],
   "source": [
    "schema = StructType([\\\n",
    "                     StructField(\"userID\", IntegerType(), True), \\\n",
    "                     StructField(\"movieID\", IntegerType(), True), \\\n",
    "                     StructField(\"rating\", IntegerType(), True), \\\n",
    "                     StructField(\"timestamp\", LongType(), True)])"
   ]
  },
  {
   "cell_type": "code",
   "execution_count": null,
   "metadata": {},
   "outputs": [],
   "source": [
    "movie_df = spark.read.option(\"sep\", \"\\t\").schema(schema).csv(\"csv_folder_path\")\n",
    "\n",
    "movie_count = movie_df.groupBy(\"movieID\").count()"
   ]
  },
  {
   "cell_type": "markdown",
   "metadata": {},
   "source": [
    "### USer-Defined function (UDF) for lookup"
   ]
  },
  {
   "cell_type": "code",
   "execution_count": null,
   "metadata": {},
   "outputs": [],
   "source": [
    "def LookUpName(movieID):\n",
    "    return nameDict.value[movieID]\n",
    "\n",
    "lookupNameUDF = func.udf(lookupName)"
   ]
  },
  {
   "cell_type": "markdown",
   "metadata": {},
   "source": [
    "* **Purpose**: Defines a UDF to lookup movie names from the broadcasted dictionary\n",
    "* **Details**: \n",
    "  * `LookUpName(movieID)`: Retrieves the movie name for the given `movieID` from `nameDict`\n",
    "  * `func.udf(lookUpName)`: Registers `lookUpName` as a UDF so it can be used in DataFrame operation"
   ]
  },
  {
   "cell_type": "code",
   "execution_count": null,
   "metadata": {},
   "outputs": [],
   "source": [
    "# Add a movieTitle column using our new udf\n",
    "moviesWithNames = movieCounts.withColumn(\"movieTitle\", lookupNameUDF(func.col(\"movieID\")))\n",
    "\n",
    "# Sort the results\n",
    "sortedMoviesWithNames = moviesWithNames.orderBy(func.desc(\"count\"))\n",
    "\n",
    "# Grab the top 10\n",
    "sortedMoviesWithNames.show(10, False)\n",
    "\n",
    "# Stop the session\n",
    "spark.stop()"
   ]
  }
 ],
 "metadata": {
  "kernelspec": {
   "display_name": "base",
   "language": "python",
   "name": "python3"
  },
  "language_info": {
   "codemirror_mode": {
    "name": "ipython",
    "version": 3
   },
   "file_extension": ".py",
   "mimetype": "text/x-python",
   "name": "python",
   "nbconvert_exporter": "python",
   "pygments_lexer": "ipython3",
   "version": "3.11.4"
  }
 },
 "nbformat": 4,
 "nbformat_minor": 2
}
