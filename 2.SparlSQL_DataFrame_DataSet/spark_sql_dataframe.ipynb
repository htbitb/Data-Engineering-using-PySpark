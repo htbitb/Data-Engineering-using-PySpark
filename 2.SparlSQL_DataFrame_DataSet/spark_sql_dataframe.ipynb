{
 "cells": [
  {
   "cell_type": "markdown",
   "metadata": {},
   "source": [
    "### Import Libraries and Data ingestion"
   ]
  },
  {
   "cell_type": "code",
   "execution_count": 1,
   "metadata": {},
   "outputs": [],
   "source": [
    "from pyspark.sql import SparkSession\n",
    "from pyspark.sql import function as func\n",
    "\n",
    "spark = SparkSession.builder.appName(\"SparkSQLDataFrame\").getOrCreate()\n",
    "\n",
    "people = spark.read.option(\"header\", \"true\").option(\"inferSchema\", \"true\")\\\n",
    "    .csv(\"./source/fakefriends_header.csv\")"
   ]
  },
  {
   "cell_type": "markdown",
   "metadata": {},
   "source": [
    "### Some popular features"
   ]
  },
  {
   "cell_type": "code",
   "execution_count": null,
   "metadata": {},
   "outputs": [],
   "source": [
    "print(\"Here is our inferred schema:\")\n",
    "people.printSchema()\n",
    "\n",
    "print(\"Let's display the name column:\")\n",
    "people.select(\"name\").show()\n",
    "\n",
    "print(\"Filter out anyone over 21:\")\n",
    "people.filter(people.age < 21).show()\n",
    "\n",
    "print(\"Group by age\")\n",
    "people.groupBy(\"age\").count().show()\n",
    "\n",
    "print(\"Make everyone 10 years older:\")\n",
    "people.select(people.name, people.age + 10).show()"
   ]
  },
  {
   "cell_type": "markdown",
   "metadata": {},
   "source": [
    "### Sort friend by age"
   ]
  },
  {
   "cell_type": "code",
   "execution_count": null,
   "metadata": {},
   "outputs": [],
   "source": [
    "# Select only age and numFriends columns\n",
    "friendsByAge = people.select(\"age\", \"friends\")\n",
    "\n",
    "# From friendsByAge we group by \"age\" and then compute average\n",
    "friendsByAge.groupBy(\"age\").avg(\"friends\").show()\n",
    "\n",
    "# Sorted\n",
    "friendsByAge.groupBy(\"age\").avg(\"friends\").sort(\"age\").show()\n",
    "\n",
    "# Formatted more nicely\n",
    "friendsByAge.groupBy(\"age\").agg(func.round(func.avg(\"friends\"), 2)).sort(\"age\").show()\n",
    "\n",
    "# With a custom column name\n",
    "friendsByAge.groupBy(\"age\").agg(func.round(func.avg(\"friends\"), 2)\n",
    "  .alias(\"friends_avg\")).sort(\"age\").show()"
   ]
  }
 ],
 "metadata": {
  "kernelspec": {
   "display_name": "base",
   "language": "python",
   "name": "python3"
  },
  "language_info": {
   "codemirror_mode": {
    "name": "ipython",
    "version": 3
   },
   "file_extension": ".py",
   "mimetype": "text/x-python",
   "name": "python",
   "nbconvert_exporter": "python",
   "pygments_lexer": "ipython3",
   "version": "3.11.4"
  }
 },
 "nbformat": 4,
 "nbformat_minor": 2
}
